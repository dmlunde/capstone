{
 "cells": [
  {
   "cell_type": "markdown",
   "metadata": {},
   "source": [
    "# Eminem Data Visualization"
   ]
  },
  {
   "cell_type": "markdown",
   "metadata": {},
   "source": [
    "## Imports"
   ]
  },
  {
   "cell_type": "code",
   "execution_count": 1,
   "metadata": {},
   "outputs": [
    {
     "name": "stderr",
     "output_type": "stream",
     "text": [
      "Using TensorFlow backend.\n"
     ]
    }
   ],
   "source": [
    "import pandas as pd\n",
    "import numpy as np\n",
    "import random\n",
    "import keras\n",
    "import nltk\n",
    "from sklearn.manifold import TSNE\n",
    "from sklearn.preprocessing import StandardScaler\n",
    "from sklearn.model_selection import train_test_split\n",
    "from sklearn.metrics import accuracy_score\n",
    "from keras import preprocessing\n",
    "from keras.preprocessing.text import Tokenizer, one_hot, hashing_trick\n",
    "from tensorflow.keras.models import Sequential\n",
    "from tensorflow.keras.layers import Bidirectional, Embedding, Flatten, Dense, Dropout, SimpleRNN, GRU, LSTM # if GPU version, check out CUDNN\n",
    "from tensorflow.keras.optimizers import Adam, RMSprop\n",
    "from tensorflow.keras.preprocessing.sequence import TimeseriesGenerator, pad_sequences\n",
    "from keras.preprocessing.text import text_to_word_sequence\n",
    "from gensim.models import Word2Vec, KeyedVectors"
   ]
  },
  {
   "cell_type": "markdown",
   "metadata": {},
   "source": [
    "### Data/EDA/Organizing"
   ]
  },
  {
   "cell_type": "code",
   "execution_count": 3,
   "metadata": {
    "scrolled": true
   },
   "outputs": [],
   "source": [
    "lyrics_by_song_with_headers = pd.read_csv('../data/Eminem Lyrics with Headers', index_col=0)"
   ]
  },
  {
   "cell_type": "code",
   "execution_count": 4,
   "metadata": {},
   "outputs": [],
   "source": [
    "lyrics_by_song_without_headers = pd.read_csv('../data/Eminem Lyrics without Headers', index_col=0)"
   ]
  },
  {
   "cell_type": "code",
   "execution_count": 8,
   "metadata": {},
   "outputs": [
    {
     "data": {
      "text/html": [
       "<div>\n",
       "<style scoped>\n",
       "    .dataframe tbody tr th:only-of-type {\n",
       "        vertical-align: middle;\n",
       "    }\n",
       "\n",
       "    .dataframe tbody tr th {\n",
       "        vertical-align: top;\n",
       "    }\n",
       "\n",
       "    .dataframe thead th {\n",
       "        text-align: right;\n",
       "    }\n",
       "</style>\n",
       "<table border=\"1\" class=\"dataframe\">\n",
       "  <thead>\n",
       "    <tr style=\"text-align: right;\">\n",
       "      <th></th>\n",
       "      <th>Eminem Lyrics by Line</th>\n",
       "    </tr>\n",
       "  </thead>\n",
       "  <tbody>\n",
       "    <tr>\n",
       "      <td>0</td>\n",
       "      <td>\"Look, I was gonna go easy on you not to hurt ...</td>\n",
       "    </tr>\n",
       "    <tr>\n",
       "      <td>1</td>\n",
       "      <td>\"But I'm only going to get this one chance.\"</td>\n",
       "    </tr>\n",
       "    <tr>\n",
       "      <td>2</td>\n",
       "      <td>\"Something's wrong, I can feel it.\"</td>\n",
       "    </tr>\n",
       "    <tr>\n",
       "      <td>3</td>\n",
       "      <td>\"Just a feeling I've got. Like something's abo...</td>\n",
       "    </tr>\n",
       "    <tr>\n",
       "      <td>4</td>\n",
       "      <td>If that means what I think it means, we're in ...</td>\n",
       "    </tr>\n",
       "    <tr>\n",
       "      <td>...</td>\n",
       "      <td>...</td>\n",
       "    </tr>\n",
       "    <tr>\n",
       "      <td>26134</td>\n",
       "      <td>This shit won't even get me to The Shelter</td>\n",
       "    </tr>\n",
       "    <tr>\n",
       "      <td>26135</td>\n",
       "      <td>And I can't even say I'm from Motown</td>\n",
       "    </tr>\n",
       "    <tr>\n",
       "      <td>26136</td>\n",
       "      <td>'Cause I'm back in the 810 now</td>\n",
       "    </tr>\n",
       "    <tr>\n",
       "      <td>26137</td>\n",
       "      <td>'Cause I live at home in a trailer</td>\n",
       "    </tr>\n",
       "    <tr>\n",
       "      <td>26138</td>\n",
       "      <td>Mom, I'm comin' home to you</td>\n",
       "    </tr>\n",
       "  </tbody>\n",
       "</table>\n",
       "<p>26139 rows × 1 columns</p>\n",
       "</div>"
      ],
      "text/plain": [
       "                                   Eminem Lyrics by Line\n",
       "0      \"Look, I was gonna go easy on you not to hurt ...\n",
       "1          \"But I'm only going to get this one chance.\" \n",
       "2                   \"Something's wrong, I can feel it.\" \n",
       "3      \"Just a feeling I've got. Like something's abo...\n",
       "4      If that means what I think it means, we're in ...\n",
       "...                                                  ...\n",
       "26134         This shit won't even get me to The Shelter\n",
       "26135               And I can't even say I'm from Motown\n",
       "26136                     'Cause I'm back in the 810 now\n",
       "26137                 'Cause I live at home in a trailer\n",
       "26138                        Mom, I'm comin' home to you\n",
       "\n",
       "[26139 rows x 1 columns]"
      ]
     },
     "execution_count": 8,
     "metadata": {},
     "output_type": "execute_result"
    }
   ],
   "source": [
    "f = open('../data/lyrics_eminem.txt', 'r')\n",
    "\n",
    "with open('../data/lyrics_eminem.txt', 'r') as f:\n",
    "    raw_data = f.read()\n",
    "\n",
    "split_data = raw_data.split('\\n')\n",
    "\n",
    "lyrics_by_line = pd.DataFrame(split_data)\n",
    "\n",
    "lyrics_by_line.columns = ['Eminem Lyrics by Line']\n",
    "\n",
    "lyrics_by_line # each sample as a row as in each line is a sample which is why we have so many compared to whole songs"
   ]
  },
  {
   "cell_type": "code",
   "execution_count": 9,
   "metadata": {
    "scrolled": true
   },
   "outputs": [
    {
     "data": {
      "text/html": [
       "<div>\n",
       "<style scoped>\n",
       "    .dataframe tbody tr th:only-of-type {\n",
       "        vertical-align: middle;\n",
       "    }\n",
       "\n",
       "    .dataframe tbody tr th {\n",
       "        vertical-align: top;\n",
       "    }\n",
       "\n",
       "    .dataframe thead th {\n",
       "        text-align: right;\n",
       "    }\n",
       "</style>\n",
       "<table border=\"1\" class=\"dataframe\">\n",
       "  <thead>\n",
       "    <tr style=\"text-align: right;\">\n",
       "      <th></th>\n",
       "      <th>lyrics</th>\n",
       "    </tr>\n",
       "  </thead>\n",
       "  <tbody>\n",
       "    <tr>\n",
       "      <td>1996 Underground Freestyle</td>\n",
       "      <td>Any rapper saying those kind of rhymes In this...</td>\n",
       "    </tr>\n",
       "    <tr>\n",
       "      <td>1997 Freestyle Live at Wetlands, NYC</td>\n",
       "      <td>[Verse 1] Everybody, duck down, all you hear i...</td>\n",
       "    </tr>\n",
       "    <tr>\n",
       "      <td>1997 Rap Olympics</td>\n",
       "      <td>[RAP BATTLE 1] I'ma tell you this for your own...</td>\n",
       "    </tr>\n",
       "    <tr>\n",
       "      <td>1999</td>\n",
       "      <td>[Intro] Hi kids, do you like Kim's bullshit? (...</td>\n",
       "    </tr>\n",
       "    <tr>\n",
       "      <td>1999 Tim Westwood Freestyle</td>\n",
       "      <td>[Verse 1: Eminem] Tim Westwood, Marley Marl an...</td>\n",
       "    </tr>\n",
       "    <tr>\n",
       "      <td>...</td>\n",
       "      <td>...</td>\n",
       "    </tr>\n",
       "    <tr>\n",
       "      <td>Yellow Brick Road</td>\n",
       "      <td>[Intro] \"What we have to do is deal with it wh...</td>\n",
       "    </tr>\n",
       "    <tr>\n",
       "      <td>You Don’t Know</td>\n",
       "      <td>[Intro: Tony Yayo &amp; 50 Cent] Shady! Yeah  [Cho...</td>\n",
       "    </tr>\n",
       "    <tr>\n",
       "      <td>You Gon’ Learn</td>\n",
       "      <td>[Chorus: White Gold] Pray you see tomorrow lit...</td>\n",
       "    </tr>\n",
       "    <tr>\n",
       "      <td>You’re Never Over</td>\n",
       "      <td>[Chorus] The days are cold, livin' without you...</td>\n",
       "    </tr>\n",
       "    <tr>\n",
       "      <td>Zucker im Kaffee (Sugar in the coffee)</td>\n",
       "      <td>[Verse 1: Eminem] Here I go, lyrical I have no...</td>\n",
       "    </tr>\n",
       "  </tbody>\n",
       "</table>\n",
       "<p>562 rows × 1 columns</p>\n",
       "</div>"
      ],
      "text/plain": [
       "                                                                                   lyrics\n",
       "1996 Underground Freestyle              Any rapper saying those kind of rhymes In this...\n",
       "1997 Freestyle Live at Wetlands, NYC    [Verse 1] Everybody, duck down, all you hear i...\n",
       "1997 Rap Olympics                       [RAP BATTLE 1] I'ma tell you this for your own...\n",
       "1999                                    [Intro] Hi kids, do you like Kim's bullshit? (...\n",
       "1999 Tim Westwood Freestyle             [Verse 1: Eminem] Tim Westwood, Marley Marl an...\n",
       "...                                                                                   ...\n",
       "Yellow Brick Road                       [Intro] \"What we have to do is deal with it wh...\n",
       "You Don’t Know                          [Intro: Tony Yayo & 50 Cent] Shady! Yeah  [Cho...\n",
       "You Gon’ Learn                          [Chorus: White Gold] Pray you see tomorrow lit...\n",
       "You’re Never Over                       [Chorus] The days are cold, livin' without you...\n",
       "Zucker im Kaffee (Sugar in the coffee)  [Verse 1: Eminem] Here I go, lyrical I have no...\n",
       "\n",
       "[562 rows x 1 columns]"
      ]
     },
     "execution_count": 9,
     "metadata": {},
     "output_type": "execute_result"
    }
   ],
   "source": [
    "lyrics_by_song_with_headers # each sample as a row as in each song is a sample"
   ]
  },
  {
   "cell_type": "code",
   "execution_count": 10,
   "metadata": {},
   "outputs": [],
   "source": [
    "#lyrics_by_song_with_headers['y'] = lyrics_by_song_with_headers['lyrics'] + ??"
   ]
  },
  {
   "cell_type": "code",
   "execution_count": 11,
   "metadata": {},
   "outputs": [
    {
     "data": {
      "text/html": [
       "<div>\n",
       "<style scoped>\n",
       "    .dataframe tbody tr th:only-of-type {\n",
       "        vertical-align: middle;\n",
       "    }\n",
       "\n",
       "    .dataframe tbody tr th {\n",
       "        vertical-align: top;\n",
       "    }\n",
       "\n",
       "    .dataframe thead th {\n",
       "        text-align: right;\n",
       "    }\n",
       "</style>\n",
       "<table border=\"1\" class=\"dataframe\">\n",
       "  <thead>\n",
       "    <tr style=\"text-align: right;\">\n",
       "      <th></th>\n",
       "      <th>lyrics</th>\n",
       "    </tr>\n",
       "  </thead>\n",
       "  <tbody>\n",
       "    <tr>\n",
       "      <td>1996 Underground Freestyle</td>\n",
       "      <td>Any rapper saying those kind of rhymes In this...</td>\n",
       "    </tr>\n",
       "    <tr>\n",
       "      <td>1997 Freestyle Live at Wetlands, NYC</td>\n",
       "      <td>Everybody, duck down, all you hear is the soun...</td>\n",
       "    </tr>\n",
       "    <tr>\n",
       "      <td>1997 Rap Olympics</td>\n",
       "      <td>I'ma tell you this for your own benefit Your s...</td>\n",
       "    </tr>\n",
       "    <tr>\n",
       "      <td>1999</td>\n",
       "      <td>Hi kids, do you like Kim's bullshit? (No!) Wan...</td>\n",
       "    </tr>\n",
       "    <tr>\n",
       "      <td>1999 Tim Westwood Freestyle</td>\n",
       "      <td>Tim Westwood, Marley Marl and Slim Shady and M...</td>\n",
       "    </tr>\n",
       "    <tr>\n",
       "      <td>...</td>\n",
       "      <td>...</td>\n",
       "    </tr>\n",
       "    <tr>\n",
       "      <td>Yellow Brick Road</td>\n",
       "      <td>\"What we have to do is deal with it when these...</td>\n",
       "    </tr>\n",
       "    <tr>\n",
       "      <td>You Don’t Know</td>\n",
       "      <td>Shady! Yeah  Who run it? You know, you actin' ...</td>\n",
       "    </tr>\n",
       "    <tr>\n",
       "      <td>You Gon’ Learn</td>\n",
       "      <td>Pray you see tomorrow little boy, you gon' lea...</td>\n",
       "    </tr>\n",
       "    <tr>\n",
       "      <td>You’re Never Over</td>\n",
       "      <td>The days are cold, livin' without you The nigh...</td>\n",
       "    </tr>\n",
       "    <tr>\n",
       "      <td>Zucker im Kaffee (Sugar in the coffee)</td>\n",
       "      <td>Here I go, lyrical I have no Idea what I'm doi...</td>\n",
       "    </tr>\n",
       "  </tbody>\n",
       "</table>\n",
       "<p>563 rows × 1 columns</p>\n",
       "</div>"
      ],
      "text/plain": [
       "                                                                                   lyrics\n",
       "1996 Underground Freestyle              Any rapper saying those kind of rhymes In this...\n",
       "1997 Freestyle Live at Wetlands, NYC    Everybody, duck down, all you hear is the soun...\n",
       "1997 Rap Olympics                       I'ma tell you this for your own benefit Your s...\n",
       "1999                                    Hi kids, do you like Kim's bullshit? (No!) Wan...\n",
       "1999 Tim Westwood Freestyle             Tim Westwood, Marley Marl and Slim Shady and M...\n",
       "...                                                                                   ...\n",
       "Yellow Brick Road                       \"What we have to do is deal with it when these...\n",
       "You Don’t Know                          Shady! Yeah  Who run it? You know, you actin' ...\n",
       "You Gon’ Learn                          Pray you see tomorrow little boy, you gon' lea...\n",
       "You’re Never Over                       The days are cold, livin' without you The nigh...\n",
       "Zucker im Kaffee (Sugar in the coffee)  Here I go, lyrical I have no Idea what I'm doi...\n",
       "\n",
       "[563 rows x 1 columns]"
      ]
     },
     "execution_count": 11,
     "metadata": {},
     "output_type": "execute_result"
    }
   ],
   "source": [
    "lyrics_by_song_without_headers # each sample as a row as in each song is a sample"
   ]
  },
  {
   "cell_type": "markdown",
   "metadata": {},
   "source": [
    "## Setting X & y"
   ]
  },
  {
   "cell_type": "code",
   "execution_count": 12,
   "metadata": {
    "scrolled": true
   },
   "outputs": [
    {
     "data": {
      "text/html": [
       "<div>\n",
       "<style scoped>\n",
       "    .dataframe tbody tr th:only-of-type {\n",
       "        vertical-align: middle;\n",
       "    }\n",
       "\n",
       "    .dataframe tbody tr th {\n",
       "        vertical-align: top;\n",
       "    }\n",
       "\n",
       "    .dataframe thead th {\n",
       "        text-align: right;\n",
       "    }\n",
       "</style>\n",
       "<table border=\"1\" class=\"dataframe\">\n",
       "  <thead>\n",
       "    <tr style=\"text-align: right;\">\n",
       "      <th></th>\n",
       "      <th>lyrics</th>\n",
       "    </tr>\n",
       "  </thead>\n",
       "  <tbody>\n",
       "    <tr>\n",
       "      <td>1996 Underground Freestyle</td>\n",
       "      <td>Any rapper saying those kind of rhymes In this...</td>\n",
       "    </tr>\n",
       "    <tr>\n",
       "      <td>1997 Freestyle Live at Wetlands, NYC</td>\n",
       "      <td>[Verse 1] Everybody, duck down, all you hear i...</td>\n",
       "    </tr>\n",
       "    <tr>\n",
       "      <td>1997 Rap Olympics</td>\n",
       "      <td>[RAP BATTLE 1] I'ma tell you this for your own...</td>\n",
       "    </tr>\n",
       "    <tr>\n",
       "      <td>1999</td>\n",
       "      <td>[Intro] Hi kids, do you like Kim's bullshit? (...</td>\n",
       "    </tr>\n",
       "    <tr>\n",
       "      <td>1999 Tim Westwood Freestyle</td>\n",
       "      <td>[Verse 1: Eminem] Tim Westwood, Marley Marl an...</td>\n",
       "    </tr>\n",
       "    <tr>\n",
       "      <td>...</td>\n",
       "      <td>...</td>\n",
       "    </tr>\n",
       "    <tr>\n",
       "      <td>Yellow Brick Road</td>\n",
       "      <td>[Intro] \"What we have to do is deal with it wh...</td>\n",
       "    </tr>\n",
       "    <tr>\n",
       "      <td>You Don’t Know</td>\n",
       "      <td>[Intro: Tony Yayo &amp; 50 Cent] Shady! Yeah  [Cho...</td>\n",
       "    </tr>\n",
       "    <tr>\n",
       "      <td>You Gon’ Learn</td>\n",
       "      <td>[Chorus: White Gold] Pray you see tomorrow lit...</td>\n",
       "    </tr>\n",
       "    <tr>\n",
       "      <td>You’re Never Over</td>\n",
       "      <td>[Chorus] The days are cold, livin' without you...</td>\n",
       "    </tr>\n",
       "    <tr>\n",
       "      <td>Zucker im Kaffee (Sugar in the coffee)</td>\n",
       "      <td>[Verse 1: Eminem] Here I go, lyrical I have no...</td>\n",
       "    </tr>\n",
       "  </tbody>\n",
       "</table>\n",
       "<p>562 rows × 1 columns</p>\n",
       "</div>"
      ],
      "text/plain": [
       "                                                                                   lyrics\n",
       "1996 Underground Freestyle              Any rapper saying those kind of rhymes In this...\n",
       "1997 Freestyle Live at Wetlands, NYC    [Verse 1] Everybody, duck down, all you hear i...\n",
       "1997 Rap Olympics                       [RAP BATTLE 1] I'ma tell you this for your own...\n",
       "1999                                    [Intro] Hi kids, do you like Kim's bullshit? (...\n",
       "1999 Tim Westwood Freestyle             [Verse 1: Eminem] Tim Westwood, Marley Marl an...\n",
       "...                                                                                   ...\n",
       "Yellow Brick Road                       [Intro] \"What we have to do is deal with it wh...\n",
       "You Don’t Know                          [Intro: Tony Yayo & 50 Cent] Shady! Yeah  [Cho...\n",
       "You Gon’ Learn                          [Chorus: White Gold] Pray you see tomorrow lit...\n",
       "You’re Never Over                       [Chorus] The days are cold, livin' without you...\n",
       "Zucker im Kaffee (Sugar in the coffee)  [Verse 1: Eminem] Here I go, lyrical I have no...\n",
       "\n",
       "[562 rows x 1 columns]"
      ]
     },
     "execution_count": 12,
     "metadata": {},
     "output_type": "execute_result"
    }
   ],
   "source": [
    "X = lyrics_by_song_with_headers\n",
    "X # lyrics_by_song_with_headers['lyrics']"
   ]
  },
  {
   "cell_type": "code",
   "execution_count": 13,
   "metadata": {},
   "outputs": [
    {
     "data": {
      "text/html": [
       "<div>\n",
       "<style scoped>\n",
       "    .dataframe tbody tr th:only-of-type {\n",
       "        vertical-align: middle;\n",
       "    }\n",
       "\n",
       "    .dataframe tbody tr th {\n",
       "        vertical-align: top;\n",
       "    }\n",
       "\n",
       "    .dataframe thead th {\n",
       "        text-align: right;\n",
       "    }\n",
       "</style>\n",
       "<table border=\"1\" class=\"dataframe\">\n",
       "  <thead>\n",
       "    <tr style=\"text-align: right;\">\n",
       "      <th></th>\n",
       "      <th>lyrics</th>\n",
       "    </tr>\n",
       "  </thead>\n",
       "  <tbody>\n",
       "    <tr>\n",
       "      <td>1996 Underground Freestyle</td>\n",
       "      <td>Any rapper saying those kind of rhymes In this...</td>\n",
       "    </tr>\n",
       "    <tr>\n",
       "      <td>1997 Freestyle Live at Wetlands, NYC</td>\n",
       "      <td>Everybody, duck down, all you hear is the soun...</td>\n",
       "    </tr>\n",
       "    <tr>\n",
       "      <td>1997 Rap Olympics</td>\n",
       "      <td>I'ma tell you this for your own benefit Your s...</td>\n",
       "    </tr>\n",
       "    <tr>\n",
       "      <td>1999</td>\n",
       "      <td>Hi kids, do you like Kim's bullshit? (No!) Wan...</td>\n",
       "    </tr>\n",
       "    <tr>\n",
       "      <td>1999 Tim Westwood Freestyle</td>\n",
       "      <td>Tim Westwood, Marley Marl and Slim Shady and M...</td>\n",
       "    </tr>\n",
       "    <tr>\n",
       "      <td>...</td>\n",
       "      <td>...</td>\n",
       "    </tr>\n",
       "    <tr>\n",
       "      <td>Yellow Brick Road</td>\n",
       "      <td>\"What we have to do is deal with it when these...</td>\n",
       "    </tr>\n",
       "    <tr>\n",
       "      <td>You Don’t Know</td>\n",
       "      <td>Shady! Yeah  Who run it? You know, you actin' ...</td>\n",
       "    </tr>\n",
       "    <tr>\n",
       "      <td>You Gon’ Learn</td>\n",
       "      <td>Pray you see tomorrow little boy, you gon' lea...</td>\n",
       "    </tr>\n",
       "    <tr>\n",
       "      <td>You’re Never Over</td>\n",
       "      <td>The days are cold, livin' without you The nigh...</td>\n",
       "    </tr>\n",
       "    <tr>\n",
       "      <td>Zucker im Kaffee (Sugar in the coffee)</td>\n",
       "      <td>Here I go, lyrical I have no Idea what I'm doi...</td>\n",
       "    </tr>\n",
       "  </tbody>\n",
       "</table>\n",
       "<p>563 rows × 1 columns</p>\n",
       "</div>"
      ],
      "text/plain": [
       "                                                                                   lyrics\n",
       "1996 Underground Freestyle              Any rapper saying those kind of rhymes In this...\n",
       "1997 Freestyle Live at Wetlands, NYC    Everybody, duck down, all you hear is the soun...\n",
       "1997 Rap Olympics                       I'ma tell you this for your own benefit Your s...\n",
       "1999                                    Hi kids, do you like Kim's bullshit? (No!) Wan...\n",
       "1999 Tim Westwood Freestyle             Tim Westwood, Marley Marl and Slim Shady and M...\n",
       "...                                                                                   ...\n",
       "Yellow Brick Road                       \"What we have to do is deal with it when these...\n",
       "You Don’t Know                          Shady! Yeah  Who run it? You know, you actin' ...\n",
       "You Gon’ Learn                          Pray you see tomorrow little boy, you gon' lea...\n",
       "You’re Never Over                       The days are cold, livin' without you The nigh...\n",
       "Zucker im Kaffee (Sugar in the coffee)  Here I go, lyrical I have no Idea what I'm doi...\n",
       "\n",
       "[563 rows x 1 columns]"
      ]
     },
     "execution_count": 13,
     "metadata": {},
     "output_type": "execute_result"
    }
   ],
   "source": [
    "X_no_headers = lyrics_by_song_without_headers\n",
    "X_no_headers"
   ]
  },
  {
   "cell_type": "code",
   "execution_count": 14,
   "metadata": {},
   "outputs": [
    {
     "data": {
      "text/plain": [
       "0        \"Look, I was gonna go easy on you not to hurt ...\n",
       "1            \"But I'm only going to get this one chance.\" \n",
       "2                     \"Something's wrong, I can feel it.\" \n",
       "3        \"Just a feeling I've got. Like something's abo...\n",
       "4        If that means what I think it means, we're in ...\n",
       "                               ...                        \n",
       "26134           This shit won't even get me to The Shelter\n",
       "26135                 And I can't even say I'm from Motown\n",
       "26136                       'Cause I'm back in the 810 now\n",
       "26137                   'Cause I live at home in a trailer\n",
       "26138                          Mom, I'm comin' home to you\n",
       "Name: Eminem Lyrics by Line, Length: 26139, dtype: object"
      ]
     },
     "execution_count": 14,
     "metadata": {},
     "output_type": "execute_result"
    }
   ],
   "source": [
    "X_by_line = lyrics_by_line['Eminem Lyrics by Line']\n",
    "\n",
    "X_by_line"
   ]
  },
  {
   "cell_type": "code",
   "execution_count": 15,
   "metadata": {},
   "outputs": [
    {
     "data": {
      "text/plain": [
       "1160852"
      ]
     },
     "execution_count": 15,
     "metadata": {},
     "output_type": "execute_result"
    }
   ],
   "source": [
    "len(raw_data)"
   ]
  },
  {
   "cell_type": "code",
   "execution_count": 16,
   "metadata": {},
   "outputs": [
    {
     "data": {
      "text/plain": [
       "str"
      ]
     },
     "execution_count": 16,
     "metadata": {},
     "output_type": "execute_result"
    }
   ],
   "source": [
    "type(raw_data)"
   ]
  },
  {
   "cell_type": "code",
   "execution_count": 17,
   "metadata": {},
   "outputs": [],
   "source": [
    "y = lyrics_by_song_with_headers"
   ]
  },
  {
   "cell_type": "code",
   "execution_count": 18,
   "metadata": {},
   "outputs": [
    {
     "data": {
      "text/html": [
       "<div>\n",
       "<style scoped>\n",
       "    .dataframe tbody tr th:only-of-type {\n",
       "        vertical-align: middle;\n",
       "    }\n",
       "\n",
       "    .dataframe tbody tr th {\n",
       "        vertical-align: top;\n",
       "    }\n",
       "\n",
       "    .dataframe thead th {\n",
       "        text-align: right;\n",
       "    }\n",
       "</style>\n",
       "<table border=\"1\" class=\"dataframe\">\n",
       "  <thead>\n",
       "    <tr style=\"text-align: right;\">\n",
       "      <th></th>\n",
       "      <th>lyrics</th>\n",
       "    </tr>\n",
       "  </thead>\n",
       "  <tbody>\n",
       "    <tr>\n",
       "      <td>1996 Underground Freestyle</td>\n",
       "      <td>Any rapper saying those kind of rhymes In this...</td>\n",
       "    </tr>\n",
       "    <tr>\n",
       "      <td>1997 Freestyle Live at Wetlands, NYC</td>\n",
       "      <td>[Verse 1] Everybody, duck down, all you hear i...</td>\n",
       "    </tr>\n",
       "    <tr>\n",
       "      <td>1997 Rap Olympics</td>\n",
       "      <td>[RAP BATTLE 1] I'ma tell you this for your own...</td>\n",
       "    </tr>\n",
       "    <tr>\n",
       "      <td>1999</td>\n",
       "      <td>[Intro] Hi kids, do you like Kim's bullshit? (...</td>\n",
       "    </tr>\n",
       "    <tr>\n",
       "      <td>1999 Tim Westwood Freestyle</td>\n",
       "      <td>[Verse 1: Eminem] Tim Westwood, Marley Marl an...</td>\n",
       "    </tr>\n",
       "    <tr>\n",
       "      <td>...</td>\n",
       "      <td>...</td>\n",
       "    </tr>\n",
       "    <tr>\n",
       "      <td>Yellow Brick Road</td>\n",
       "      <td>[Intro] \"What we have to do is deal with it wh...</td>\n",
       "    </tr>\n",
       "    <tr>\n",
       "      <td>You Don’t Know</td>\n",
       "      <td>[Intro: Tony Yayo &amp; 50 Cent] Shady! Yeah  [Cho...</td>\n",
       "    </tr>\n",
       "    <tr>\n",
       "      <td>You Gon’ Learn</td>\n",
       "      <td>[Chorus: White Gold] Pray you see tomorrow lit...</td>\n",
       "    </tr>\n",
       "    <tr>\n",
       "      <td>You’re Never Over</td>\n",
       "      <td>[Chorus] The days are cold, livin' without you...</td>\n",
       "    </tr>\n",
       "    <tr>\n",
       "      <td>Zucker im Kaffee (Sugar in the coffee)</td>\n",
       "      <td>[Verse 1: Eminem] Here I go, lyrical I have no...</td>\n",
       "    </tr>\n",
       "  </tbody>\n",
       "</table>\n",
       "<p>562 rows × 1 columns</p>\n",
       "</div>"
      ],
      "text/plain": [
       "                                                                                   lyrics\n",
       "1996 Underground Freestyle              Any rapper saying those kind of rhymes In this...\n",
       "1997 Freestyle Live at Wetlands, NYC    [Verse 1] Everybody, duck down, all you hear i...\n",
       "1997 Rap Olympics                       [RAP BATTLE 1] I'ma tell you this for your own...\n",
       "1999                                    [Intro] Hi kids, do you like Kim's bullshit? (...\n",
       "1999 Tim Westwood Freestyle             [Verse 1: Eminem] Tim Westwood, Marley Marl an...\n",
       "...                                                                                   ...\n",
       "Yellow Brick Road                       [Intro] \"What we have to do is deal with it wh...\n",
       "You Don’t Know                          [Intro: Tony Yayo & 50 Cent] Shady! Yeah  [Cho...\n",
       "You Gon’ Learn                          [Chorus: White Gold] Pray you see tomorrow lit...\n",
       "You’re Never Over                       [Chorus] The days are cold, livin' without you...\n",
       "Zucker im Kaffee (Sugar in the coffee)  [Verse 1: Eminem] Here I go, lyrical I have no...\n",
       "\n",
       "[562 rows x 1 columns]"
      ]
     },
     "execution_count": 18,
     "metadata": {},
     "output_type": "execute_result"
    }
   ],
   "source": [
    "y"
   ]
  },
  {
   "cell_type": "code",
   "execution_count": 19,
   "metadata": {},
   "outputs": [
    {
     "data": {
      "text/plain": [
       "562"
      ]
     },
     "execution_count": 19,
     "metadata": {},
     "output_type": "execute_result"
    }
   ],
   "source": [
    "len([i for i in X.values])"
   ]
  },
  {
   "cell_type": "code",
   "execution_count": 20,
   "metadata": {},
   "outputs": [
    {
     "data": {
      "text/plain": [
       "562"
      ]
     },
     "execution_count": 20,
     "metadata": {},
     "output_type": "execute_result"
    }
   ],
   "source": [
    "len([str(i) for i in X.values])"
   ]
  },
  {
   "cell_type": "code",
   "execution_count": 21,
   "metadata": {},
   "outputs": [],
   "source": [
    "songs = [str(i) for i in X.values] # this gives me 562 strings (each individual string is a song)"
   ]
  },
  {
   "cell_type": "code",
   "execution_count": 22,
   "metadata": {},
   "outputs": [
    {
     "data": {
      "text/plain": [
       "'[\"Any rapper saying those kind of rhymes In this day and age in this period of time Tryna battle Eminem is worse than David Starr tryna battle Proof, Eye-Ku, BFlat and Bizarre (unintelligible) That\\'s why you beg to differ me, you ain\\'t got no style Plus you lack delivery, not to brag I don\\'t need to boast Look, my face is pale, but you look like you seen a ghost (unintelligible) You couldn\\'t slip up in the zone, if I put banana peels Around this fucking microphone So get a bulldozer, start from bottom to top And tear this building down \\'cause that\\'s the only way you wrecking shop\"]'"
      ]
     },
     "execution_count": 22,
     "metadata": {},
     "output_type": "execute_result"
    }
   ],
   "source": [
    "songs[0]"
   ]
  },
  {
   "cell_type": "markdown",
   "metadata": {},
   "source": [
    "# Word2Vec of corpus with nltk tokenizing"
   ]
  },
  {
   "cell_type": "code",
   "execution_count": 23,
   "metadata": {},
   "outputs": [],
   "source": [
    "lyrics_to_word2vec = X_no_headers['lyrics'].values # for Word2Vec purposes no headers in lyrics"
   ]
  },
  {
   "cell_type": "code",
   "execution_count": 24,
   "metadata": {},
   "outputs": [],
   "source": [
    "lyrics_to_word2vec = [nltk.word_tokenize(str(lyrics).lower()) for lyrics in lyrics_to_word2vec]"
   ]
  },
  {
   "cell_type": "code",
   "execution_count": 25,
   "metadata": {},
   "outputs": [],
   "source": [
    "raw_lyrics_to_word2vec = nltk.word_tokenize(raw_data.lower())"
   ]
  },
  {
   "cell_type": "code",
   "execution_count": 26,
   "metadata": {},
   "outputs": [],
   "source": [
    "raw_model = Word2Vec(lyrics_to_word2vec, min_count = 5, size=100)"
   ]
  },
  {
   "cell_type": "code",
   "execution_count": 27,
   "metadata": {},
   "outputs": [],
   "source": [
    "model = Word2Vec(lyrics_to_word2vec, min_count = 5, size=100)"
   ]
  },
  {
   "cell_type": "code",
   "execution_count": 28,
   "metadata": {},
   "outputs": [
    {
     "data": {
      "text/plain": [
       "100"
      ]
     },
     "execution_count": 28,
     "metadata": {},
     "output_type": "execute_result"
    }
   ],
   "source": [
    "model.vector_size"
   ]
  },
  {
   "cell_type": "code",
   "execution_count": 29,
   "metadata": {},
   "outputs": [
    {
     "data": {
      "text/plain": [
       "[('berman', 0.9437180757522583),\n",
       " (':', 0.9335832595825195),\n",
       " ('angie', 0.9317049384117126),\n",
       " ('announcer', 0.9222269058227539),\n",
       " ('maxine', 0.9210937023162842),\n",
       " ('umm', 0.9088065028190613),\n",
       " ('...', 0.9042419791221619),\n",
       " ('kaniff', 0.8991262912750244),\n",
       " ('steve', 0.8945740461349487),\n",
       " ('chicka', 0.8897425532341003),\n",
       " ('dre', 0.889535665512085),\n",
       " ('kh', 0.8812863826751709),\n",
       " ('dr.', 0.8802385330200195),\n",
       " ('mathers', 0.8782122135162354),\n",
       " ('alchemist', 0.877895176410675),\n",
       " ('hi', 0.8685227632522583),\n",
       " ('marshall', 0.8629335761070251),\n",
       " ('uh', 0.8612315654754639),\n",
       " ('driver', 0.8554304242134094),\n",
       " (']', 0.8522699475288391),\n",
       " ('ken', 0.8518734574317932),\n",
       " ('hey', 0.8516489863395691),\n",
       " (\"5'9\", 0.8516048789024353),\n",
       " ('.', 0.8502477407455444),\n",
       " ('shooter', 0.8499135375022888)]"
      ]
     },
     "execution_count": 29,
     "metadata": {},
     "output_type": "execute_result"
    }
   ],
   "source": [
    "model.wv.most_similar('eminem', topn=25)"
   ]
  },
  {
   "cell_type": "code",
   "execution_count": 30,
   "metadata": {},
   "outputs": [
    {
     "data": {
      "text/plain": [
       "[('berman', 0.9372522830963135),\n",
       " ('umm', 0.9345086812973022),\n",
       " ('announcer', 0.9213975667953491),\n",
       " (':', 0.9183546304702759),\n",
       " ('angie', 0.9153282642364502),\n",
       " ('steve', 0.914012610912323),\n",
       " (\"5'9\", 0.9098554253578186),\n",
       " ('...', 0.9025701880455017),\n",
       " ('marshall', 0.8958580493927002),\n",
       " ('mathers', 0.8932931423187256),\n",
       " ('dre', 0.8888651132583618),\n",
       " ('chicka', 0.880052924156189),\n",
       " ('dr.', 0.8782283663749695),\n",
       " ('hi', 0.8757897615432739),\n",
       " ('kaniff', 0.8733636140823364),\n",
       " ('ken', 0.872272253036499),\n",
       " (']', 0.8701735734939575),\n",
       " ('tuned', 0.869166910648346),\n",
       " ('uh-uh', 0.8612707257270813),\n",
       " ('aight', 0.8605036735534668),\n",
       " ('slim', 0.8578271865844727),\n",
       " ('hey', 0.849830687046051),\n",
       " ('uh', 0.84670090675354),\n",
       " ('um', 0.8440448641777039),\n",
       " ('—', 0.8439708948135376)]"
      ]
     },
     "execution_count": 30,
     "metadata": {},
     "output_type": "execute_result"
    }
   ],
   "source": [
    "raw_model.wv.most_similar('eminem', topn=25)"
   ]
  },
  {
   "cell_type": "markdown",
   "metadata": {},
   "source": [
    "# Visualization T-sne | Code modified from: https://towardsdatascience.com/google-news-and-leo-tolstoy-visualizing-word2vec-word-embeddings-with-t-sne-11558d8bd4d"
   ]
  },
  {
   "cell_type": "code",
   "execution_count": null,
   "metadata": {},
   "outputs": [],
   "source": [
    "keys = ['eminem', 'fuck', 'dick', 'bitch', 'drugs', 'ass', 'violence', 'mom']\n",
    "\n",
    "embedding_clusters = []\n",
    "word_clusters = []\n",
    "for word in keys:\n",
    "    embeddings = []\n",
    "    words = []\n",
    "    for similar_word, _ in raw_model.wv.most_similar(word, topn=30):\n",
    "        words.append(similar_word)\n",
    "        embeddings.append(raw_model[similar_word])\n",
    "    embedding_clusters.append(embeddings)\n",
    "    word_clusters.append(words)"
   ]
  },
  {
   "cell_type": "code",
   "execution_count": null,
   "metadata": {},
   "outputs": [],
   "source": [
    "embedding_clusters = np.array(embedding_clusters)\n",
    "n, m, k = embedding_clusters.shape\n",
    "tsne_model_en_2d = TSNE(perplexity=15, n_components=2, init='pca', n_iter=3500, random_state=32)\n",
    "embeddings_en_2d = np.array(tsne_model_en_2d.fit_transform(embedding_clusters.reshape(n * m, k))).reshape(n, m, 2)"
   ]
  },
  {
   "cell_type": "code",
   "execution_count": null,
   "metadata": {},
   "outputs": [],
   "source": [
    "import matplotlib.pyplot as plt\n",
    "import matplotlib.cm as cm\n",
    "\n",
    "\n",
    "def tsne_plot_similar_words(title, labels, embedding_clusters, word_clusters, a, filename=None):\n",
    "    plt.figure(figsize=(24, 18))\n",
    "    colors = cm.rainbow(np.linspace(0, 1, len(labels)))\n",
    "    for label, embeddings, words, color in zip(labels, embedding_clusters, word_clusters, colors):\n",
    "        x = embeddings[:, 0]\n",
    "        y = embeddings[:, 1]\n",
    "        plt.scatter(x, y, c=color, alpha=a, label=label)\n",
    "        for i, word in enumerate(words):\n",
    "            plt.annotate(word, alpha=0.8, xy=(x[i], y[i]), xytext=(5, 2),\n",
    "                         textcoords='offset points', ha='right', va='bottom', size=12)\n",
    "    plt.legend(loc=4)\n",
    "    plt.title(title)\n",
    "    plt.grid(True)\n",
    "    if filename:\n",
    "        plt.savefig(filename, format='png', dpi=300, bbox_inches='tight')\n",
    "    plt.show()\n",
    "\n",
    "plt.savefig('Similar Words t-sne.png')\n",
    "tsne_plot_similar_words('Similar words from Eminem Corpus', keys, embeddings_en_2d, word_clusters, 0.7,\n",
    "                        'similar_words.png')"
   ]
  },
  {
   "cell_type": "code",
   "execution_count": null,
   "metadata": {},
   "outputs": [],
   "source": [
    "words_ak = []\n",
    "embeddings_ak = []\n",
    "for word in list(raw_model.wv.vocab):\n",
    "    embeddings_ak.append(raw_model.wv[word])\n",
    "    words_ak.append(word)\n",
    "    \n",
    "tsne_ak_2d = TSNE(perplexity=30, n_components=2, init='pca', n_iter=3500, random_state=32)\n",
    "embeddings_ak_2d = tsne_ak_2d.fit_transform(embeddings_ak)\n",
    "\n",
    "def tsne_plot_2d(label, embeddings, words=[], a=1):\n",
    "    plt.figure(figsize=(16, 9))\n",
    "    colors = cm.rainbow(np.linspace(0, 1, 1))\n",
    "    x = embeddings[:,0]\n",
    "    y = embeddings[:,1]\n",
    "    plt.scatter(x, y, c=colors, alpha=a, label=label)\n",
    "    for i, word in enumerate(words):\n",
    "        plt.annotate(word, alpha=0.3, xy=(x[i], y[i]), xytext=(5, 2), \n",
    "                     textcoords='offset points', ha='right', va='bottom', size=10)\n",
    "    plt.legend(loc=4)\n",
    "    plt.grid(True)\n",
    "    plt.savefig(\"hhh.png\", format='png', dpi=150, bbox_inches='tight')\n",
    "    plt.show()\n",
    "\n",
    "tsne_plot_2d('Eminem Corpus', embeddings_ak_2d, a=0.1)\n"
   ]
  },
  {
   "cell_type": "code",
   "execution_count": null,
   "metadata": {},
   "outputs": [],
   "source": [
    "words_wp = []\n",
    "embeddings_wp = []\n",
    "for word in list(raw_model.wv.vocab):\n",
    "    embeddings_wp.append(raw_model.wv[word])\n",
    "    words_wp.append(word)\n",
    "    \n",
    "tsne_wp_3d = TSNE(perplexity=30, n_components=3, init='pca', n_iter=3500, random_state=12)\n",
    "embeddings_wp_3d = tsne_wp_3d.fit_transform(embeddings_wp)\n",
    "\n",
    "from mpl_toolkits.mplot3d import Axes3D\n",
    "\n",
    "\n",
    "def tsne_plot_3d(title, label, embeddings, a=1):\n",
    "    fig = plt.figure()\n",
    "    ax = Axes3D(fig)\n",
    "    colors = cm.rainbow(np.linspace(0, 1, 1))\n",
    "    plt.scatter(embeddings[:, 0], embeddings[:, 1], embeddings[:, 2], c=colors, alpha=a, label=label)\n",
    "    plt.legend(loc=4)\n",
    "    plt.title(title)\n",
    "    plt.show()\n",
    "\n",
    "\n",
    "tsne_plot_3d('Visualizing Embeddings using t-SNE', 'Eminem Lyrics Corpus', embeddings_wp_3d, a=0.1)"
   ]
  },
  {
   "cell_type": "markdown",
   "metadata": {},
   "source": [
    "# Embedding/Pre-Processing/Encoding Text Data/Lyrics with Keras"
   ]
  },
  {
   "cell_type": "code",
   "execution_count": null,
   "metadata": {},
   "outputs": [],
   "source": [
    "max_len = 1,560 # most words in a single song\n",
    "training_samples = len(songs) # I want to train the model on every song\n",
    "max_words = 21_000"
   ]
  },
  {
   "cell_type": "code",
   "execution_count": null,
   "metadata": {},
   "outputs": [],
   "source": [
    "t = Tokenizer(num_words=max_words) # instantiating Tokenizer class."
   ]
  },
  {
   "cell_type": "code",
   "execution_count": null,
   "metadata": {},
   "outputs": [],
   "source": [
    "t.document_count"
   ]
  },
  {
   "cell_type": "code",
   "execution_count": null,
   "metadata": {},
   "outputs": [],
   "source": [
    "t.fit_on_texts(songs) # fitting tokenizer to my corpus\n",
    "\n",
    "song_sequences = t.texts_to_sequences(songs) # creating a list of sequences of integers out of my list of strings/lyrics\n",
    "song_matrix = t.sequences_to_matrix(song_sequences)\n",
    "one_hot_lyrics = t.texts_to_matrix(songs, mode='binary') # one hot encoded vectors\n",
    "cvec_lyrics = t.texts_to_matrix(songs, mode='count') # count vectors\n",
    "tfidf_lyrics = t.texts_to_matrix(songs, mode='tfidf') # tfidf vectors\n",
    "# above is my vectorized data of songs. can we use this as our x to train a model and then predict a new y?\n",
    "\n",
    "word_index = t.word_index # saving my token/word index to a variable. word_index is a dict\n",
    "\n",
    "print(f'Found {len(word_index)} unique tokens/words.')"
   ]
  },
  {
   "cell_type": "code",
   "execution_count": null,
   "metadata": {},
   "outputs": [],
   "source": [
    "len(word_index.keys())"
   ]
  },
  {
   "cell_type": "code",
   "execution_count": null,
   "metadata": {},
   "outputs": [],
   "source": [
    "word_index"
   ]
  },
  {
   "cell_type": "code",
   "execution_count": null,
   "metadata": {
    "scrolled": true
   },
   "outputs": [],
   "source": [
    "len(song_sequences)"
   ]
  },
  {
   "cell_type": "code",
   "execution_count": null,
   "metadata": {
    "scrolled": true
   },
   "outputs": [],
   "source": [
    "type(song_sequences) # list of integers"
   ]
  },
  {
   "cell_type": "code",
   "execution_count": null,
   "metadata": {},
   "outputs": [],
   "source": [
    "type(song_matrix)"
   ]
  },
  {
   "cell_type": "code",
   "execution_count": null,
   "metadata": {
    "scrolled": true
   },
   "outputs": [],
   "source": [
    "len(song_matrix)"
   ]
  },
  {
   "cell_type": "code",
   "execution_count": null,
   "metadata": {},
   "outputs": [],
   "source": [
    "print(f'Word Counts: {t.word_counts}')\n",
    "print(f'Document Count: {t.document_count}')\n",
    "print(f'Word Index: {t.word_index}')\n",
    "print(f'Word Docs: {t.word_docs}')"
   ]
  },
  {
   "cell_type": "code",
   "execution_count": null,
   "metadata": {
    "scrolled": true
   },
   "outputs": [],
   "source": [
    "data = pad_sequences(sequences=song_sequences, padding='post')\n",
    "# transforming my list of sequences, 'sequences', into a 2D Numpy array with a maximum length of max_len and making all sequences same length"
   ]
  },
  {
   "cell_type": "code",
   "execution_count": null,
   "metadata": {},
   "outputs": [],
   "source": [
    "len(data)"
   ]
  },
  {
   "cell_type": "code",
   "execution_count": null,
   "metadata": {},
   "outputs": [],
   "source": [
    "data"
   ]
  }
 ],
 "metadata": {
  "kernelspec": {
   "display_name": "Python 3",
   "language": "python",
   "name": "python3"
  },
  "language_info": {
   "codemirror_mode": {
    "name": "ipython",
    "version": 3
   },
   "file_extension": ".py",
   "mimetype": "text/x-python",
   "name": "python",
   "nbconvert_exporter": "python",
   "pygments_lexer": "ipython3",
   "version": "3.7.4"
  }
 },
 "nbformat": 4,
 "nbformat_minor": 2
}
